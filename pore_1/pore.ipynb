{
 "cells": [
  {
   "cell_type": "code",
   "execution_count": 1,
   "metadata": {},
   "outputs": [],
   "source": [
    "import cv2\n",
    "import numpy as np"
   ]
  },
  {
   "cell_type": "code",
   "execution_count": 2,
   "metadata": {},
   "outputs": [],
   "source": [
    "# 定义一个自己读取图像的函数\n",
    "def myimshow(arr):\n",
    "    cv2.imshow(f'{arr.shape}',arr)\n",
    "    cv2.waitKey(0)\n",
    "    cv2.destroyAllWindows()"
   ]
  },
  {
   "cell_type": "code",
   "execution_count": 3,
   "metadata": {},
   "outputs": [],
   "source": [
    "# 加载图像数据并进行简单展示\n",
    "image1 = cv2.imread('./01.png',cv2.IMREAD_ANYCOLOR)\n",
    "myimshow(image1)"
   ]
  },
  {
   "cell_type": "markdown",
   "metadata": {},
   "source": [
    "#### 一.方法1\n",
    "* 为了避免在二值化的时候忽略部分低亮度点，将像素值低于120的像素点周围的像素点置为0\n",
    "* 进行二值化操作将目标区域转换为高亮区域\n",
    "* 膨胀目标区域便于后面提取轮廓"
   ]
  },
  {
   "cell_type": "code",
   "execution_count": null,
   "metadata": {},
   "outputs": [],
   "source": [
    "# 转换为灰度图\n",
    "image2 = cv2.cvtColor(image1,cv2.COLOR_BGR2GRAY)\n",
    "myimshow(image2)\n",
    "# 将低亮度周围区域也置为0\n",
    "for i in range(image2.shape[0]):\n",
    "    for j in range(image2.shape[1]):\n",
    "        if image2[i,j]<120:\n",
    "            image2[i-1:i+1,j-1:j+1] = 0\n",
    "\n",
    "# 二值化操作\n",
    "t,thresMat = cv2.threshold(image2, 120, 255, cv2.THRESH_BINARY_INV)\n",
    "# 3.膨胀扩大目标区域\n",
    "# 类似卷积核\n",
    "kernel = np.ones(shape=(3,3),dtype=np.uint8)\n",
    "thresMat1 = cv2.dilate(thresMat,kernel,iterations=2)\n",
    "myimshow(thresMat)"
   ]
  },
  {
   "cell_type": "markdown",
   "metadata": {},
   "source": [
    "#### 二.方法1\n",
    "* 首先对灰度图进行核大小为(3*3)的均值滤波，能够凸显边缘区域\n",
    "* 不固定阈值范围，使用自适应阈值选择\n",
    "* 使用形态学操作膨胀，将目标区域扩大"
   ]
  },
  {
   "cell_type": "code",
   "execution_count": 11,
   "metadata": {},
   "outputs": [],
   "source": [
    "# 转换为灰度图\n",
    "image2 = cv2.cvtColor(image1,cv2.COLOR_BGR2GRAY)\n",
    "myimshow(image2)\n",
    "# 1.先对图像做一个3*3的均值滤波\n",
    "filter = cv2.blur(image2,(3,3))\n",
    "# 2.通过THRESH_OTSU 自动寻找合适的阈值，适合双峰，需要把阈值参数设置为0\n",
    "t,thresMat = cv2.threshold(image2, 0, 255, cv2.THRESH_BINARY_INV | cv2.THRESH_OTSU)\n",
    "# 3.膨胀扩大目标区域\n",
    "# 卷积核选择一个低亮度毛孔区域，使用labelIMG标注工具获取坐标信息,进而获取ROI区域\n",
    "\"\"\"\n",
    "<bndbox>\n",
    "\t\t\t<xmin>258</xmin>\n",
    "\t\t\t<ymin>224</ymin>\n",
    "\t\t\t<xmax>262</xmax>\n",
    "\t\t\t<ymax>229</ymax>\n",
    "\t\t</bndbox>\n",
    "\"\"\"\n",
    "kernel_1 = image2[258:263,224:230]\n",
    "# kernel = np.ones(shape=(3,3),dtype=np.uint8)\n",
    "thresMat1 = cv2.dilate(thresMat,kernel_1,iterations=2)\n",
    "myimshow(thresMat)"
   ]
  },
  {
   "cell_type": "code",
   "execution_count": 12,
   "metadata": {},
   "outputs": [
    {
     "data": {
      "text/plain": [
       "array([[135, 134, 135, 136, 139, 140],\n",
       "       [133, 132, 134, 135, 136, 137],\n",
       "       [132, 132, 134, 134, 135, 137],\n",
       "       [128, 130, 132, 133, 135, 137],\n",
       "       [126, 124, 126, 128, 131, 133]], dtype=uint8)"
      ]
     },
     "execution_count": 12,
     "metadata": {},
     "output_type": "execute_result"
    }
   ],
   "source": [
    "# 卷积核大小为4*5，具体像素值如下\n",
    "kernel_1"
   ]
  },
  {
   "cell_type": "code",
   "execution_count": 13,
   "metadata": {},
   "outputs": [],
   "source": [
    "# 获取毛孔轮廓(mode=只检测外轮廓，method=只保留终点坐标)\n",
    "contours, hierarchy = cv2.findContours(thresMat, mode=cv2.RETR_EXTERNAL, method=cv2.CHAIN_APPROX_SIMPLE)\n",
    "# 框出选择出来的区域\n",
    "image3 = cv2.drawContours(image2.copy(), contours, contourIdx=-1, color=(0, 0, 255), thickness=2)\n",
    "# 进行图像拼接\n",
    "total_2 = np.concatenate((image2,thresMat,image3),axis=-1)\n",
    "myimshow(total_2)"
   ]
  },
  {
   "cell_type": "code",
   "execution_count": 14,
   "metadata": {},
   "outputs": [],
   "source": [
    "# 获取模板所有轮廓的外接矩形\n",
    "areas = []\n",
    "for contour in contours:\n",
    "    x, y, w, h = cv2.boundingRect(contour)\n",
    "    ar = w / float(h)\n",
    "    # 对不符合条件的轮廓外接矩形进行筛选\n",
    "    \n",
    "    if ar < 2 and (0 < w < 20) and (0 < h < 20):\n",
    "        areas.append((x, y, w, h))\n"
   ]
  },
  {
   "cell_type": "code",
   "execution_count": 15,
   "metadata": {},
   "outputs": [],
   "source": [
    "image1_copy  = image1.copy()\n",
    "for idx,(x,y,w,h)in enumerate(areas):\n",
    "    cv2.rectangle(image1_copy, (x-2, y-2), (x + w+2, y + h+2), color=(0, 0, 255), thickness=1)\n",
    "    # cv2.putText(image1_copy, 'pore', (x, y - 15), cv2.FONT_HERSHEY_SIMPLEX, 0.8, (0, 0, 255), 2)\n",
    "myimshow(image1_copy)"
   ]
  },
  {
   "cell_type": "code",
   "execution_count": 16,
   "metadata": {},
   "outputs": [
    {
     "data": {
      "text/plain": [
       "True"
      ]
     },
     "execution_count": 16,
     "metadata": {},
     "output_type": "execute_result"
    }
   ],
   "source": [
    "cv2.imwrite('./pore3.jpg',image1_copy)"
   ]
  },
  {
   "cell_type": "code",
   "execution_count": 9,
   "metadata": {},
   "outputs": [
    {
     "data": {
      "text/plain": [
       "True"
      ]
     },
     "execution_count": 9,
     "metadata": {},
     "output_type": "execute_result"
    }
   ],
   "source": [
    "img0 = cv2.imread('./pore0.jpg')\n",
    "img1 = cv2.imread('./pore.jpg')\n",
    "img2 = cv2.imread('./pore1.jpg')\n",
    "img3 = cv2.imread('./pore2.jpg')\n",
    "img_total = np.concatenate((img0,img1,img2,img3),axis=1)\n",
    "myimshow(img_total)\n",
    "cv2.imwrite('./compare.jpg',img_total)"
   ]
  },
  {
   "cell_type": "code",
   "execution_count": null,
   "metadata": {},
   "outputs": [],
   "source": []
  }
 ],
 "metadata": {
  "kernelspec": {
   "display_name": "Python 3.9.13 ('pytorch')",
   "language": "python",
   "name": "python3"
  },
  "language_info": {
   "codemirror_mode": {
    "name": "ipython",
    "version": 3
   },
   "file_extension": ".py",
   "mimetype": "text/x-python",
   "name": "python",
   "nbconvert_exporter": "python",
   "pygments_lexer": "ipython3",
   "version": "3.9.13"
  },
  "orig_nbformat": 4,
  "vscode": {
   "interpreter": {
    "hash": "052260d76f3f66ee414a69ccdc062e80bbe1ca903e6189b170cf8cf72ef5f084"
   }
  }
 },
 "nbformat": 4,
 "nbformat_minor": 2
}
