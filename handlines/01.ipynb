{
 "cells": [
  {
   "cell_type": "code",
   "execution_count": 2,
   "metadata": {},
   "outputs": [],
   "source": [
    "import cv2"
   ]
  },
  {
   "cell_type": "code",
   "execution_count": 3,
   "metadata": {},
   "outputs": [],
   "source": [
    "# 定义一个自己读取图像的函数\n",
    "def myimshow(arr):\n",
    "    cv2.imshow(f'{arr.shape}',arr)\n",
    "    cv2.waitKey(0)\n",
    "    cv2.destroyAllWindows()"
   ]
  },
  {
   "cell_type": "code",
   "execution_count": 46,
   "metadata": {},
   "outputs": [],
   "source": [
    "# 加载图像数据并进行简单展示\n",
    "image = cv2.imread('./hand.jpg',cv2.IMREAD_REDUCED_COLOR_8)\n",
    "myimshow(image)"
   ]
  },
  {
   "cell_type": "code",
   "execution_count": 25,
   "metadata": {},
   "outputs": [],
   "source": [
    "# 将图像转换为灰度图\n",
    "gray = cv2.cvtColor(image,cv2.COLOR_BGR2GRAY)\n",
    "myimshow(gray)\n",
    "# 找到轮廓线\n",
    "edges = cv2.Canny(gray,60,65,apertureSize = 3)\n",
    "myimshow(edges)\n",
    "# 进行非运算\n",
    "edges = cv2.bitwise_not(edges)\n",
    "myimshow(edges)\n",
    "# 将GRAY图像转换为BGR格式\n",
    "edges = cv2.cvtColor(edges,cv2.COLOR_GRAY2BGR)\n",
    "img = cv2.addWeighted(edges, 0.3, image, 0.7, 0)\n",
    "# 保存图像\n",
    "cv2.imwrite(\"handlines.jpg\", img)\n",
    "myimshow(img)"
   ]
  },
  {
   "cell_type": "code",
   "execution_count": null,
   "metadata": {},
   "outputs": [],
   "source": []
  }
 ],
 "metadata": {
  "kernelspec": {
   "display_name": "Python 3.9.13 ('pytorch')",
   "language": "python",
   "name": "python3"
  },
  "language_info": {
   "codemirror_mode": {
    "name": "ipython",
    "version": 3
   },
   "file_extension": ".py",
   "mimetype": "text/x-python",
   "name": "python",
   "nbconvert_exporter": "python",
   "pygments_lexer": "ipython3",
   "version": "3.9.13"
  },
  "orig_nbformat": 4,
  "vscode": {
   "interpreter": {
    "hash": "052260d76f3f66ee414a69ccdc062e80bbe1ca903e6189b170cf8cf72ef5f084"
   }
  }
 },
 "nbformat": 4,
 "nbformat_minor": 2
}
