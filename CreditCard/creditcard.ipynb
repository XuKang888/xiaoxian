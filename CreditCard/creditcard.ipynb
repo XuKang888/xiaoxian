{
 "cells": [
  {
   "cell_type": "code",
   "execution_count": 1,
   "metadata": {},
   "outputs": [],
   "source": [
    "# 导入工具包\n",
    "import cv2\n",
    "import numpy as np"
   ]
  },
  {
   "cell_type": "code",
   "execution_count": 4,
   "metadata": {},
   "outputs": [],
   "source": [
    "# 定义参数\n",
    "img_dir = '.\\images\\credit_card_01.png'\n",
    "template_dir = '.\\images\\ocr_a_reference.png'\n",
    "# 自定义图像读取方法\n",
    "def myimshow(array):\n",
    "    cv2.imshow(f'{array.shape}', array)\n",
    "    cv2.waitKey(0)\n",
    "    cv2.destroyAllWindows()"
   ]
  },
  {
   "cell_type": "code",
   "execution_count": 8,
   "metadata": {},
   "outputs": [],
   "source": [
    "# 读取模板并将其转为灰度图像后，二值化操作，将背景转为黑色\n",
    "template = cv2.imread(template_dir)\n",
    "template_gray = cv2.cvtColor(template, cv2.COLOR_BGR2GRAY)\n",
    "myimshow(template_gray)\n",
    "template_bin = cv2.threshold(template_gray, 10, 255, cv2.THRESH_BINARY_INV)[1]\n",
    "myimshow(template_bin)"
   ]
  },
  {
   "cell_type": "code",
   "execution_count": 9,
   "metadata": {},
   "outputs": [],
   "source": [
    "# 获取模板轮廓(mode=只检测外轮廓，method=只保留终点坐标)\n",
    "contours, hierarchy = cv2.findContours(template_bin, mode=cv2.RETR_EXTERNAL, method=cv2.CHAIN_APPROX_SIMPLE)\n",
    "# 在原图上画轮廓的时候必须先拷贝一份出来，否则原图会被修改\n",
    "template_copy_contours = cv2.drawContours(template.copy(), contours, contourIdx=-1, color=(0, 0, 255), thickness=2)\n",
    "myimshow(template_copy_contours)"
   ]
  },
  {
   "cell_type": "code",
   "execution_count": 86,
   "metadata": {},
   "outputs": [
    {
     "data": {
      "text/plain": [
       "True"
      ]
     },
     "execution_count": 86,
     "metadata": {},
     "output_type": "execute_result"
    }
   ],
   "source": [
    "# 获取模板所有轮廓的外接矩形\n",
    "template_bound_recs = [cv2.boundingRect(contour) for contour in contours]\n",
    "template_bound_recs = sorted(template_bound_recs,key=lambda x:x[0])\n",
    "template_copy_drawrec = template.copy()\n",
    "# 在复制出来的模板图原图上绘制外接矩形框,并且得到数字与模板图像区域的映射关系\n",
    "digits = {}\n",
    "for idx, rec in enumerate(template_bound_recs):\n",
    "    x, y, x1, y1 = rec[0], rec[1], (rec[0] + rec[2]), (rec[1] + rec[3])\n",
    "    roi = template_gray[y:y1, x:x1]\n",
    "    roi = cv2.resize(roi, (57, 88))\n",
    "    digits[idx] = roi\n",
    "    cv2.rectangle(template_copy_drawrec, (x, y), (x1, y1), color=(0, 0, 255), thickness=2)\n",
    "    myimshow(roi)\n",
    "    myimshow(template_copy_drawrec)\n",
    "cv2.imwrite('./save_img/template_copy_drawrec.jpg',template_copy_drawrec)"
   ]
  },
  {
   "cell_type": "code",
   "execution_count": 82,
   "metadata": {},
   "outputs": [],
   "source": [
    "# 二.对于待检测图像的处理\n",
    "# 初始化卷积核\n",
    "reckernel = cv2.getStructuringElement(cv2.MORPH_RECT, (9, 3))\n",
    "sqkernel = cv2.getStructuringElement(cv2.MORPH_RECT, (9, 3))\n",
    "# 读取图像与预处理\n",
    "card = cv2.imread(img_dir)\n",
    "myimshow(card)\n",
    "# card = cv2.resize(card, (card.shape[1] * card.shape[0] // 300, 300), interpolation=cv2.INTER_AREA)\n",
    "card_gray = cv2.cvtColor(card, cv2.COLOR_BGR2GRAY)\n",
    "myimshow(card_gray)"
   ]
  },
  {
   "cell_type": "code",
   "execution_count": 83,
   "metadata": {},
   "outputs": [],
   "source": [
    "# 礼帽操作(原始图像-闭运算)，突出暗背景下的高亮区域\n",
    "tophat = cv2.morphologyEx(card_gray, op=cv2.MORPH_TOPHAT, kernel=reckernel)\n",
    "myimshow(tophat)\n",
    "\n",
    "# 计算梯度，得到边缘位置\n",
    "gradx = cv2.Sobel(tophat, ddepth=cv2.CV_32F, dx=1, dy=0, ksize=3)\n",
    "\n",
    "# 对梯度进行归一化\n",
    "gradx = np.absolute(gradx)\n",
    "minval, maxval = np.min(gradx), np.max(gradx)\n",
    "gradx = (255 * (gradx - minval) / (maxval - minval)).astype(np.uint8)\n",
    "myimshow(gradx)"
   ]
  },
  {
   "cell_type": "code",
   "execution_count": 87,
   "metadata": {},
   "outputs": [
    {
     "data": {
      "text/plain": [
       "True"
      ]
     },
     "execution_count": 87,
     "metadata": {},
     "output_type": "execute_result"
    }
   ],
   "source": [
    "# 通过闭操作将数字连在一起\n",
    "close = cv2.morphologyEx(gradx, cv2.MORPH_CLOSE, reckernel)\n",
    "myimshow(close)\n",
    "\n",
    "# 通过THRESH_OTSU 自动寻找合适的阈值，适合双峰，需要把阈值参数设置为0\n",
    "_, threshold = cv2.threshold(close, 0, 255, cv2.THRESH_BINARY | cv2.THRESH_OTSU)\n",
    "myimshow(threshold)\n",
    "\n",
    "# 通过闭操作将数字连在一起\n",
    "close = cv2.morphologyEx(threshold, cv2.MORPH_CLOSE, sqkernel, iterations=4)\n",
    "myimshow(close)\n",
    "\n",
    "cv2.imwrite('./save_img/close.jpg',close)"
   ]
  },
  {
   "cell_type": "code",
   "execution_count": 77,
   "metadata": {},
   "outputs": [],
   "source": [
    "# 计算轮廓\n",
    "contours_card, _ = cv2.findContours(close, cv2.RETR_EXTERNAL, cv2.CHAIN_APPROX_SIMPLE)\n",
    "card_contours = cv2.drawContours(card_gray.copy(), contours_card, -1, (255, 255, 255), 2)\n",
    "myimshow(card_contours)\n",
    "areas = []\n",
    "for contour in contours_card:\n",
    "    x, y, w, h = cv2.boundingRect(contour)\n",
    "    ar = w / float(h)\n",
    "    # 使用labelIMG获取ROI区域的长宽比以及具体信息\n",
    "    if 3.0 < ar < 5.0 and ( 50 <  w < 160) and ( 10 < h < 60):\n",
    "        areas.append((x, y, w, h))\n",
    "# 按照X坐标顺序从左到右排序\n",
    "card_gray_copy = card_gray.copy()\n",
    "areas = sorted(areas, key=lambda x: x[0])"
   ]
  },
  {
   "cell_type": "code",
   "execution_count": 89,
   "metadata": {},
   "outputs": [
    {
     "data": {
      "text/plain": [
       "True"
      ]
     },
     "execution_count": 89,
     "metadata": {},
     "output_type": "execute_result"
    }
   ],
   "source": [
    "# 在灰度图中，便利每一个轮廓\n",
    "card_copy = card.copy()\n",
    "for idx, (x, y, w, h) in enumerate(areas) :\n",
    "    groups = []\n",
    "    group = card_gray[y - 5:y + h + 5, x - 5:x + w + 5]\n",
    "    # group = cv2.threshold(group, 1, 255, cv2.THRESH_BINARY_INV)[1]\n",
    "    # 对截取出来的部分，进行自适应阈值二值转换\n",
    "    _, groups_auto = cv2.threshold(group, 0, 255, cv2.THRESH_BINARY | cv2.THRESH_OTSU)\n",
    "    # 在截取出来的区域再找到每个数字的轮廓\n",
    "    contour_singles, _ = cv2.findContours(groups_auto, cv2.RETR_EXTERNAL, cv2.CHAIN_APPROX_SIMPLE)\n",
    "    single_bounds = [cv2.boundingRect(contour_single) for contour_single in contour_singles]\n",
    "    single_bounds = sorted(single_bounds,key=lambda x:x[0])\n",
    "    # 便利每一个数字\n",
    "    for single_bound in single_bounds:\n",
    "        x1, y1, w1, h1 = single_bound\n",
    "        roi = groups_auto[y1:y1 + h1, x1:x1 + w1]\n",
    "        roi = cv2.resize(roi, (57, 88))\n",
    "        roi = cv2.threshold(roi,10,255,cv2.THRESH_BINARY_INV)[1]\n",
    "        scores = []\n",
    "        for number, array in digits.items():\n",
    "            res = cv2.matchTemplate(roi, array, cv2.TM_CCOEFF)\n",
    "            score = cv2.minMaxLoc(res)[1]\n",
    "            scores.append(score)\n",
    "        groups.append(str(np.argmax(scores)))\n",
    "\n",
    "    cv2.rectangle(card_copy, (x-5, y-5), (x + w+5, y + h+5), color=(0, 0, 255), thickness=2)\n",
    "    cv2.putText(card_copy, \"\".join(groups), (x, y - 15), cv2.FONT_HERSHEY_SIMPLEX, 0.8, (0, 0, 255), 2)\n",
    "    myimshow(card_copy)\n",
    "cv2.imwrite('./save_img/final.jpg',card_copy)"
   ]
  },
  {
   "cell_type": "code",
   "execution_count": null,
   "metadata": {},
   "outputs": [],
   "source": []
  }
 ],
 "metadata": {
  "kernelspec": {
   "display_name": "Python 3.9.13 ('pytorch')",
   "language": "python",
   "name": "python3"
  },
  "language_info": {
   "codemirror_mode": {
    "name": "ipython",
    "version": 3
   },
   "file_extension": ".py",
   "mimetype": "text/x-python",
   "name": "python",
   "nbconvert_exporter": "python",
   "pygments_lexer": "ipython3",
   "version": "3.9.13"
  },
  "orig_nbformat": 4,
  "vscode": {
   "interpreter": {
    "hash": "052260d76f3f66ee414a69ccdc062e80bbe1ca903e6189b170cf8cf72ef5f084"
   }
  }
 },
 "nbformat": 4,
 "nbformat_minor": 2
}
