{
 "cells": [
  {
   "cell_type": "code",
   "execution_count": 77,
   "metadata": {},
   "outputs": [],
   "source": [
    "import cv2\n",
    "import numpy as np"
   ]
  },
  {
   "cell_type": "code",
   "execution_count": 78,
   "metadata": {},
   "outputs": [],
   "source": [
    "# 定义一个自己读取图像的函数\n",
    "def myimshow(arr):\n",
    "    cv2.imshow(f'{arr.shape}',arr)\n",
    "    cv2.waitKey(0)\n",
    "    cv2.destroyAllWindows()"
   ]
  },
  {
   "cell_type": "code",
   "execution_count": 79,
   "metadata": {},
   "outputs": [],
   "source": [
    "# 加载图像数据并进行简单展示\n",
    "image1 = cv2.imread('./01.png',cv2.IMREAD_ANYCOLOR)\n",
    "# image1 = cv2.resize(image1,(448,448))\n",
    "myimshow(image1)"
   ]
  },
  {
   "cell_type": "code",
   "execution_count": 80,
   "metadata": {},
   "outputs": [],
   "source": [
    "# 转换为灰度图\n",
    "image2 = cv2.cvtColor(image1,cv2.COLOR_BGR2GRAY)\n",
    "# 并且使用阈值将可能是毛孔的低像素值区域与其它区域进行二值化\n",
    "# \n",
    "t,thresMat = cv2.threshold(image2,120,255,cv2.THRESH_BINARY_INV)\n",
    "total_1 = np.concatenate((image2,thresMat),axis=-1)\n",
    "myimshow(total_1)"
   ]
  },
  {
   "cell_type": "code",
   "execution_count": 81,
   "metadata": {},
   "outputs": [],
   "source": [
    "# 形态学膨胀操作将细微的毛孔高亮区域进行放大\n",
    "kernel1 = np.ones((3,3),np.uint8)\n",
    "thresMat1 = cv2.dilate(thresMat,kernel=kernel1,iterations=3)\n",
    "myimshow(thresMat1)"
   ]
  },
  {
   "cell_type": "code",
   "execution_count": 82,
   "metadata": {},
   "outputs": [],
   "source": [
    "# 获取模板轮廓(mode=只检测外轮廓，method=只保留终点坐标)\n",
    "contours, hierarchy = cv2.findContours(thresMat1, mode=cv2.RETR_EXTERNAL, method=cv2.CHAIN_APPROX_SIMPLE)\n",
    "# 框出选择出来的区域\n",
    "image3 = cv2.drawContours(image2.copy(), contours, contourIdx=-1, color=(0, 0, 255), thickness=2)\n",
    "# 进行图像拼接\n",
    "total_2 = np.concatenate((image2,thresMat1,image3),axis=-1)\n",
    "myimshow(total_2)"
   ]
  },
  {
   "cell_type": "code",
   "execution_count": 83,
   "metadata": {},
   "outputs": [],
   "source": [
    "# 获取模板所有轮廓的外接矩形\n",
    "areas = []\n",
    "for contour in contours:\n",
    "    x, y, w, h = cv2.boundingRect(contour)\n",
    "    ar = w / float(h)\n",
    "    if ar < 2 and (0 < w < 20) and (0 < h < 20):\n",
    "        areas.append((x, y, w, h))\n",
    "\n",
    "# cv2.rectangle(card, (x-5, y-5), (x + w+5, y + h+5), color=(0, 0, 255), thickness=2)\n",
    "# cv2.putText(card, \"\".join(groups), (x, y - 15), cv2.FONT_HERSHEY_SIMPLEX, 0.8, (0, 0, 255), 2)"
   ]
  },
  {
   "cell_type": "code",
   "execution_count": 84,
   "metadata": {},
   "outputs": [],
   "source": [
    "image1_copy  = image1.copy()\n",
    "for idx,(x,y,w,h)in enumerate(areas):\n",
    "    cv2.rectangle(image1_copy, (x-2, y-2), (x + w+2, y + h+2), color=(0, 0, 255), thickness=1)\n",
    "    # cv2.putText(image1_copy, 'pore', (x, y - 15), cv2.FONT_HERSHEY_SIMPLEX, 0.8, (0, 0, 255), 2)\n",
    "myimshow(image1_copy)"
   ]
  },
  {
   "cell_type": "code",
   "execution_count": 85,
   "metadata": {},
   "outputs": [
    {
     "data": {
      "text/plain": [
       "True"
      ]
     },
     "execution_count": 85,
     "metadata": {},
     "output_type": "execute_result"
    }
   ],
   "source": [
    "cv2.imwrite('./pore.jpg',image1_copy)"
   ]
  },
  {
   "cell_type": "code",
   "execution_count": null,
   "metadata": {},
   "outputs": [],
   "source": []
  }
 ],
 "metadata": {
  "kernelspec": {
   "display_name": "Python 3.9.13 ('pytorch')",
   "language": "python",
   "name": "python3"
  },
  "language_info": {
   "codemirror_mode": {
    "name": "ipython",
    "version": 3
   },
   "file_extension": ".py",
   "mimetype": "text/x-python",
   "name": "python",
   "nbconvert_exporter": "python",
   "pygments_lexer": "ipython3",
   "version": "3.9.13"
  },
  "orig_nbformat": 4,
  "vscode": {
   "interpreter": {
    "hash": "052260d76f3f66ee414a69ccdc062e80bbe1ca903e6189b170cf8cf72ef5f084"
   }
  }
 },
 "nbformat": 4,
 "nbformat_minor": 2
}
